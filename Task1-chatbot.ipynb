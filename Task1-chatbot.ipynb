{
 "cells": [
  {
   "cell_type": "code",
   "execution_count": 1,
   "id": "241bdb9c",
   "metadata": {},
   "outputs": [
    {
     "name": "stdout",
     "output_type": "stream",
     "text": [
      "Chatbot: Hi! I'm a simple chatbot,I'm here to assist you!\n",
      "Me: what is music\n",
      "Chatbot: I'm sorry,I didn't understand that.Can you please rephrase your sentence?\n",
      "Me: what is mean by climate\n",
      "Chatbot: I'm sorry,I didn't understand that.Can you please rephrase your sentence?\n",
      "Me: what is your name\n",
      "Chatbot: I'm just a chatbot,so I don't have any specific name\n",
      "Me: what is music?\n",
      "Chatbot: an art of sound in time that expresses ideas and emotions in significant forms through the elements of rhythm melody harmony and color\n",
      "Me: what is climate\n",
      "Chatbot: I'm sorry,I didn't understand that.Can you please rephrase your sentence?\n",
      "Me: what is climate?\n",
      "Chatbot: I'm sorry,I didn't understand that.Can you please rephrase your sentence?\n",
      "Me: what is mean by climate\n",
      "Chatbot: I'm sorry,I didn't understand that.Can you please rephrase your sentence?\n",
      "Me: what is mean by climate?\n",
      "Chatbot: Climate, on the other hand refers to the long-term regional or even global average of temperature, humidity, and rainfall patterns over seasons, years, or decades.\n",
      "Me: bye\n",
      "Chatbot: Goodbye! Have a great day!\n"
     ]
    }
   ],
   "source": [
    "data={\n",
    "    \"hi\":\"Hi there! I'm a friendly chatbot here to assist you?\",\n",
    "    \"hello\":\"Hello! How can I help you today?\",\n",
    "    \"what is your name\":\"I'm just a chatbot,so I don't have any specific name\",\n",
    "    \"where are you from\":\"I'm from the digital world,always ready to chat!\",\n",
    "    \"do you have any hobbies or interests?\":\"I'm always busy helping users, so my hobby is chatting with people like you!\",\n",
    "    \"what did you eat today?\":\"I don't eat,but I can help you find delicious recipes and food-related information.\",\n",
    "    \"what's your favorite color?\":\"I'm a chatbot,so I don't have personal preferences for colors.\",\n",
    "    \"what is mean by climate\":\"Climate, on the other hand refers to the long-term regional or even global average of temperature, humidity, and rainfall patterns over seasons, years, or decades.\",\n",
    "    \"what is music\":\"an art of sound in time that expresses ideas and emotions in significant forms through the elements of rhythm melody harmony and color.\",\n",
    "    \"bye\":\"Bye! Take care and have a great day!\",\n",
    "}\n",
    "def get_response(user_input):\n",
    "    for pattern,response in data.items():\n",
    "        if pattern in user_input:\n",
    "            return response\n",
    "    return \"I'm sorry,I didn't understand that.Can you please rephrase your sentence?\"\n",
    "print(\"Chatbot: Hi! I'm a simple chatbot,I'm here to assist you!\")\n",
    "while True:\n",
    "    user_input=input(\"Me: \")\n",
    "    if user_input=='bye':\n",
    "       print(\"Chatbot: Goodbye! Have a great day!\")\n",
    "       break\n",
    "    response=get_response(user_input)\n",
    "    print(\"Chatbot:\",response)\n",
    "    "
   ]
  },
  {
   "cell_type": "code",
   "execution_count": null,
   "id": "c4b5b23c",
   "metadata": {},
   "outputs": [],
   "source": []
  }
 ],
 "metadata": {
  "kernelspec": {
   "display_name": "Python 3 (ipykernel)",
   "language": "python",
   "name": "python3"
  },
  "language_info": {
   "codemirror_mode": {
    "name": "ipython",
    "version": 3
   },
   "file_extension": ".py",
   "mimetype": "text/x-python",
   "name": "python",
   "nbconvert_exporter": "python",
   "pygments_lexer": "ipython3",
   "version": "3.11.5"
  }
 },
 "nbformat": 4,
 "nbformat_minor": 5
}
