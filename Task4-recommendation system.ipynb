{
 "cells": [
  {
   "cell_type": "code",
   "execution_count": null,
   "id": "d2b45c19",
   "metadata": {},
   "outputs": [],
   "source": [
    "import numpy as np\n",
    "import pandas as pd\n",
    "from tqdm import tqdm\n",
    "data = pd.read_csv(r\"C:\\Users\\Admin\\Desktop\\spotify.csv\")\n",
    "data.head()\n",
    "data.info()\n",
    "data.isnull().sum()\n",
    "df = data.drop(columns=['id', 'name', 'artists', 'release_date', 'year'])\n",
    "print(df)\n",
    "df.corr()\n",
    "from sklearn.preprocessing import MinMaxScaler\n",
    "datatypes = ['int16', 'int32', 'int64', 'float16', 'float32', 'float64']\n",
    "normarization = data.select_dtypes(include=datatypes)\n",
    "print(normarization)\n",
    "for col in normarization.columns:\n",
    "    print(MinMaxScaler(col))\n",
    "from sklearn.cluster import KMeans\n",
    "kmeans = KMeans(n_clusters=10)\n",
    "print(kmeans)\n",
    "features = kmeans.fit_predict(normarization)\n",
    "print(features)\n",
    "data['features'] = features\n",
    "MinMaxScaler(data['features'])\n",
    "songs=\"I Don't Wanna Be Kissed\"\n",
    "distance = []\n",
    "song = data[(data.name.str.lower() == songs.lower())].head(1).values[0]\n",
    "rec = data[data.name.str.lower() != songs.lower()]\n",
    "for songs in tqdm(rec.values):\n",
    "    d = 0\n",
    "    for col in np.arange(len(rec.columns)):\n",
    "        if not col in [1, 6, 12, 14, 18]:\n",
    "            d = d + np.absolute(float(song[col]) - float(songs[col]))\n",
    "    distance.append(d)\n",
    "rec['distance'] = distance\n",
    "rec = rec.sort_values('distance')\n",
    "columns = ['artists', 'name']\n",
    "print(rec[columns][:5])"
   ]
  }
 ],
 "metadata": {
  "kernelspec": {
   "display_name": "Python 3 (ipykernel)",
   "language": "python",
   "name": "python3"
  },
  "language_info": {
   "codemirror_mode": {
    "name": "ipython",
    "version": 3
   },
   "file_extension": ".py",
   "mimetype": "text/x-python",
   "name": "python",
   "nbconvert_exporter": "python",
   "pygments_lexer": "ipython3",
   "version": "3.11.5"
  }
 },
 "nbformat": 4,
 "nbformat_minor": 5
}
